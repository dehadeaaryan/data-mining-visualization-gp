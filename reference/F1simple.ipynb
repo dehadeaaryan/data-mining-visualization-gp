{
 "cells": [
  {
   "cell_type": "code",
   "execution_count": 8,
   "id": "d9cb8c1e",
   "metadata": {},
   "outputs": [],
   "source": [
    "import pandas as pd\n",
    "from sklearn.pipeline import Pipeline\n",
    "from sklearn.compose import ColumnTransformer\n",
    "from sklearn.preprocessing import OneHotEncoder, StandardScaler\n",
    "from sklearn.linear_model import LinearRegression, LogisticRegression\n",
    "from sklearn.metrics import r2_score"
   ]
  },
  {
   "cell_type": "code",
   "execution_count": 9,
   "id": "63daa92d",
   "metadata": {},
   "outputs": [
    {
     "data": {
      "text/plain": [
       "team_name         object\n",
       "code              object\n",
       "driver_nat        object\n",
       "circuitRef        object\n",
       "year             float64\n",
       "round            float64\n",
       "starting_pos     float64\n",
       "finishing_pos    float64\n",
       "laps             float64\n",
       "quali_mean       float64\n",
       "driver_age       float64\n",
       "driver_dnf         int64\n",
       "car_dnf            int64\n",
       "dtype: object"
      ]
     },
     "execution_count": 9,
     "metadata": {},
     "output_type": "execute_result"
    }
   ],
   "source": [
    "data = pd.read_csv('f1_cleaned.csv')\n",
    "data = data.rename(columns={'driver_name' : 'team_name'})\n",
    "data.dtypes"
   ]
  },
  {
   "cell_type": "code",
   "execution_count": 10,
   "id": "7c8bb73e",
   "metadata": {},
   "outputs": [],
   "source": [
    "#train test split\n",
    "#we are not using a random split here, training with pre 2024 data and trying to predict the races that occured in 2024\n",
    "\n",
    "train = data[data.year<2024]\n",
    "test = data[data.year==2024]\n",
    "\n",
    "#testing set\n",
    "y_test = test.pop('finishing_pos')\n",
    "x_test = test\n",
    "\n",
    "#training set\n",
    "y_train = train.pop('finishing_pos')\n",
    "x_train = train\n"
   ]
  },
  {
   "cell_type": "code",
   "execution_count": 11,
   "id": "67391163",
   "metadata": {},
   "outputs": [],
   "source": [
    "#encoding vars and scaling data\n",
    "\n",
    "cat_feat = ['team_name', 'code', 'driver_nat', 'circuitRef']\n",
    "x_num_feat = ['year', 'round', 'starting_pos', 'laps', 'quali_mean', 'driver_age', 'driver_dnf', 'car_dnf']\n",
    "\n",
    "#scale y later if needed for a distance model\n",
    "\n",
    "ct = ColumnTransformer(transformers=[\n",
    "    ('encoder', OneHotEncoder(handle_unknown='ignore', drop='first'), cat_feat), #avoid dummy var trap with OHE\n",
    "    ('scx', StandardScaler(), x_num_feat)\n",
    "])\n",
    "\n",
    "\n"
   ]
  },
  {
   "cell_type": "code",
   "execution_count": null,
   "id": "2013f1f4",
   "metadata": {},
   "outputs": [],
   "source": [
    "#Block for parameter tuning"
   ]
  },
  {
   "cell_type": "code",
   "execution_count": null,
   "id": "4e0389ba",
   "metadata": {},
   "outputs": [
    {
     "name": "stdout",
     "output_type": "stream",
     "text": [
      "0.6229827414899718\n"
     ]
    },
    {
     "name": "stderr",
     "output_type": "stream",
     "text": [
      "/opt/anaconda3/envs/ML/lib/python3.12/site-packages/sklearn/preprocessing/_encoders.py:246: UserWarning: Found unknown categories in columns [1, 2] during transform. These unknown categories will be encoded as all zeros\n",
      "  warnings.warn(\n"
     ]
    }
   ],
   "source": [
    "#Basic LR model (no tuning)\n",
    "\n",
    "model = Pipeline(steps=[\n",
    "    ('preprocessor', ct),\n",
    "    ('regressor', LinearRegression())\n",
    "])\n",
    "\n",
    "model.fit(x_train, y_train)\n",
    "y_pred = model.predict(x_test)\n",
    "\n",
    "r2 = r2_score(y_test, y_pred)\n",
    "print(r2)"
   ]
  },
  {
   "cell_type": "code",
   "execution_count": 13,
   "id": "759706a4",
   "metadata": {},
   "outputs": [],
   "source": [
    "#df created to compare results \n",
    "\n",
    "comparison_df = pd.DataFrame({\n",
    "    'Driver': test['code'],              \n",
    "    'Circut': test['circuitRef'],          \n",
    "    'Actual Pos': y_test,                         \n",
    "    'Predicted Pos': y_pred                       \n",
    "})"
   ]
  }
 ],
 "metadata": {
  "kernelspec": {
   "display_name": "ML",
   "language": "python",
   "name": "python3"
  },
  "language_info": {
   "codemirror_mode": {
    "name": "ipython",
    "version": 3
   },
   "file_extension": ".py",
   "mimetype": "text/x-python",
   "name": "python",
   "nbconvert_exporter": "python",
   "pygments_lexer": "ipython3",
   "version": "3.12.8"
  }
 },
 "nbformat": 4,
 "nbformat_minor": 5
}
