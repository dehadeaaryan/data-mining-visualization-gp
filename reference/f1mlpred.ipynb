{
 "cells": [
  {
   "cell_type": "code",
   "execution_count": 2,
   "metadata": {},
   "outputs": [],
   "source": [
    "import pandas as pd\n",
    "import numpy as np\n"
   ]
  },
  {
   "cell_type": "code",
   "execution_count": 3,
   "metadata": {},
   "outputs": [
    {
     "data": {
      "text/plain": [
       "'\\nCreating Dataframes from Multiple CSVs in place of using jolpica-f1 API to pull data.\\nData pulled from Kaggle: Formula 1 World Championship (1950 - 2024)\\n\\nStart pulling data from 2006 onwards, this is when the “knockout” qualifying style happened. \\n\\n•\\tCircuit (Location)\\n•\\tRace (Season, Round, Race Name, Circuit info)\\n•\\tResult (Driver number, position, points, constructor, grid, laps, status, fastest lap)\\n•\\tQualifying (Driver Pos, Driver, Constructor, ***Quali time***)\\n•\\tConstructor Standings (Points, wins, Constructor)\\n•\\tDriver Standings (Points, wins, Driver, Constructor)\\n\\n\\n•\\tNOT A TABLE/GIVEN:\\no\\tPull weather data from wiki/F1 Links\\n\\uf0a7\\tStatus Col (Dry, Wet), Temp Col\\n\\n'"
      ]
     },
     "execution_count": 3,
     "metadata": {},
     "output_type": "execute_result"
    }
   ],
   "source": [
    "\"\"\"\n",
    "Creating Dataframes from Multiple CSVs in place of using jolpica-f1 API to pull data.\n",
    "Data pulled from Kaggle: Formula 1 World Championship (1950 - 2024)\n",
    "\n",
    "Start pulling data from 2006 onwards, this is when the “knockout” qualifying style happened. \n",
    "\n",
    "•\tCircuit (Location)\n",
    "•\tRace (Season, Round, Race Name, Circuit info)\n",
    "•\tResult (Driver number, position, points, constructor, grid, laps, status, fastest lap)\n",
    "•\tQualifying (Driver Pos, Driver, Constructor, ***Quali time***)\n",
    "•\tConstructor Standings (Points, wins, Constructor)\n",
    "•\tDriver Standings (Points, wins, Driver, Constructor)\n",
    "\n",
    "\n",
    "•\tNOT A TABLE/GIVEN:\n",
    "o\tPull weather data from wiki/F1 Links\n",
    "\tStatus Col (Dry, Wet), Temp Col\n",
    "\n",
    "\"\"\""
   ]
  },
  {
   "cell_type": "code",
   "execution_count": 4,
   "metadata": {},
   "outputs": [
    {
     "data": {
      "text/plain": [
       "array(['albert_park', 'sepang', 'bahrain', 'catalunya', 'istanbul',\n",
       "       'monaco', 'villeneuve', 'magny_cours', 'silverstone',\n",
       "       'hockenheimring', 'hungaroring', 'valencia', 'spa', 'monza',\n",
       "       'marina_bay', 'fuji', 'shanghai', 'interlagos', 'indianapolis',\n",
       "       'nurburgring', 'imola', 'suzuka', 'vegas', 'yas_marina', 'galvez',\n",
       "       'jerez', 'estoril', 'okayama', 'adelaide', 'kyalami', 'donington',\n",
       "       'rodriguez', 'phoenix', 'ricard', 'yeongam', 'jacarepagua',\n",
       "       'detroit', 'brands_hatch', 'zandvoort', 'zolder', 'dijon',\n",
       "       'dallas', 'long_beach', 'las_vegas', 'jarama', 'watkins_glen',\n",
       "       'anderstorp', 'mosport', 'montjuic', 'nivelles', 'charade',\n",
       "       'tremblant', 'essarts', 'lemans', 'reims', 'george', 'zeltweg',\n",
       "       'aintree', 'boavista', 'riverside', 'avus', 'monsanto', 'sebring',\n",
       "       'ain-diab', 'pescara', 'bremgarten', 'pedralbes', 'buddh',\n",
       "       'americas', 'red_bull_ring', 'sochi', 'baku', 'portimao',\n",
       "       'mugello', 'jeddah', 'losail', 'miami'], dtype=object)"
      ]
     },
     "execution_count": 4,
     "metadata": {},
     "output_type": "execute_result"
    }
   ],
   "source": [
    "dfcircuts = pd.read_csv(\"circuits.csv\")\n",
    "dfcircuts.sort_values('circuitId')\n",
    "\n",
    "dfcircuts.circuitRef.unique()\n",
    "\n",
    "\n"
   ]
  },
  {
   "cell_type": "code",
   "execution_count": 5,
   "metadata": {},
   "outputs": [
    {
     "data": {
      "text/plain": [
       "'\\nRaces from 2006 onwards are RaceID 1-70, 337-1144\\n'"
      ]
     },
     "execution_count": 5,
     "metadata": {},
     "output_type": "execute_result"
    }
   ],
   "source": [
    "dfraces = pd.read_csv(\"races.csv\")\n",
    "dfraces.drop(dfraces.columns[5:], axis=1, inplace=True) #dropping time columns\n",
    "dfraces = dfraces[dfraces['year'] >= 2006] #filtering races from 2006 onwards\n",
    "#dfraces.head()\n",
    "\n",
    "\n",
    "\"\"\"\n",
    "Races from 2006 onwards are RaceID 1-70, 337-1144\n",
    "\"\"\""
   ]
  },
  {
   "cell_type": "code",
   "execution_count": 6,
   "metadata": {},
   "outputs": [
    {
     "data": {
      "application/vnd.microsoft.datawrangler.viewer.v0+json": {
       "columns": [
        {
         "name": "index",
         "rawType": "int64",
         "type": "integer"
        },
        {
         "name": "resultId",
         "rawType": "int64",
         "type": "integer"
        },
        {
         "name": "raceId",
         "rawType": "int64",
         "type": "integer"
        },
        {
         "name": "driverId",
         "rawType": "int64",
         "type": "integer"
        },
        {
         "name": "constructorId",
         "rawType": "int64",
         "type": "integer"
        },
        {
         "name": "grid",
         "rawType": "int64",
         "type": "integer"
        },
        {
         "name": "positionOrder",
         "rawType": "int64",
         "type": "integer"
        },
        {
         "name": "points",
         "rawType": "float64",
         "type": "float"
        },
        {
         "name": "laps",
         "rawType": "int64",
         "type": "integer"
        },
        {
         "name": "time",
         "rawType": "object",
         "type": "string"
        },
        {
         "name": "milliseconds",
         "rawType": "object",
         "type": "string"
        },
        {
         "name": "fastestLap",
         "rawType": "object",
         "type": "string"
        },
        {
         "name": "rank",
         "rawType": "object",
         "type": "string"
        },
        {
         "name": "fastestLapTime",
         "rawType": "object",
         "type": "string"
        },
        {
         "name": "fastestLapSpeed",
         "rawType": "object",
         "type": "string"
        },
        {
         "name": "statusId",
         "rawType": "int64",
         "type": "integer"
        }
       ],
       "conversionMethod": "pd.DataFrame",
       "ref": "c9b5aa91-a2da-43c0-92b2-8d798b0c0900",
       "rows": [
        [
         "0",
         "1",
         "18",
         "1",
         "1",
         "1",
         "1",
         "10.0",
         "58",
         "1:34:50.616",
         "5690616",
         "39",
         "2",
         "1:27.452",
         "218.300",
         "1"
        ],
        [
         "1",
         "2",
         "18",
         "2",
         "2",
         "5",
         "2",
         "8.0",
         "58",
         "+5.478",
         "5696094",
         "41",
         "3",
         "1:27.739",
         "217.586",
         "1"
        ],
        [
         "2",
         "3",
         "18",
         "3",
         "3",
         "7",
         "3",
         "6.0",
         "58",
         "+8.163",
         "5698779",
         "41",
         "5",
         "1:28.090",
         "216.719",
         "1"
        ],
        [
         "3",
         "4",
         "18",
         "4",
         "4",
         "11",
         "4",
         "5.0",
         "58",
         "+17.181",
         "5707797",
         "58",
         "7",
         "1:28.603",
         "215.464",
         "1"
        ],
        [
         "4",
         "5",
         "18",
         "5",
         "1",
         "3",
         "5",
         "4.0",
         "58",
         "+18.014",
         "5708630",
         "43",
         "1",
         "1:27.418",
         "218.385",
         "1"
        ]
       ],
       "shape": {
        "columns": 15,
        "rows": 5
       }
      },
      "text/html": [
       "<div>\n",
       "<style scoped>\n",
       "    .dataframe tbody tr th:only-of-type {\n",
       "        vertical-align: middle;\n",
       "    }\n",
       "\n",
       "    .dataframe tbody tr th {\n",
       "        vertical-align: top;\n",
       "    }\n",
       "\n",
       "    .dataframe thead th {\n",
       "        text-align: right;\n",
       "    }\n",
       "</style>\n",
       "<table border=\"1\" class=\"dataframe\">\n",
       "  <thead>\n",
       "    <tr style=\"text-align: right;\">\n",
       "      <th></th>\n",
       "      <th>resultId</th>\n",
       "      <th>raceId</th>\n",
       "      <th>driverId</th>\n",
       "      <th>constructorId</th>\n",
       "      <th>grid</th>\n",
       "      <th>positionOrder</th>\n",
       "      <th>points</th>\n",
       "      <th>laps</th>\n",
       "      <th>time</th>\n",
       "      <th>milliseconds</th>\n",
       "      <th>fastestLap</th>\n",
       "      <th>rank</th>\n",
       "      <th>fastestLapTime</th>\n",
       "      <th>fastestLapSpeed</th>\n",
       "      <th>statusId</th>\n",
       "    </tr>\n",
       "  </thead>\n",
       "  <tbody>\n",
       "    <tr>\n",
       "      <th>0</th>\n",
       "      <td>1</td>\n",
       "      <td>18</td>\n",
       "      <td>1</td>\n",
       "      <td>1</td>\n",
       "      <td>1</td>\n",
       "      <td>1</td>\n",
       "      <td>10.0</td>\n",
       "      <td>58</td>\n",
       "      <td>1:34:50.616</td>\n",
       "      <td>5690616</td>\n",
       "      <td>39</td>\n",
       "      <td>2</td>\n",
       "      <td>1:27.452</td>\n",
       "      <td>218.300</td>\n",
       "      <td>1</td>\n",
       "    </tr>\n",
       "    <tr>\n",
       "      <th>1</th>\n",
       "      <td>2</td>\n",
       "      <td>18</td>\n",
       "      <td>2</td>\n",
       "      <td>2</td>\n",
       "      <td>5</td>\n",
       "      <td>2</td>\n",
       "      <td>8.0</td>\n",
       "      <td>58</td>\n",
       "      <td>+5.478</td>\n",
       "      <td>5696094</td>\n",
       "      <td>41</td>\n",
       "      <td>3</td>\n",
       "      <td>1:27.739</td>\n",
       "      <td>217.586</td>\n",
       "      <td>1</td>\n",
       "    </tr>\n",
       "    <tr>\n",
       "      <th>2</th>\n",
       "      <td>3</td>\n",
       "      <td>18</td>\n",
       "      <td>3</td>\n",
       "      <td>3</td>\n",
       "      <td>7</td>\n",
       "      <td>3</td>\n",
       "      <td>6.0</td>\n",
       "      <td>58</td>\n",
       "      <td>+8.163</td>\n",
       "      <td>5698779</td>\n",
       "      <td>41</td>\n",
       "      <td>5</td>\n",
       "      <td>1:28.090</td>\n",
       "      <td>216.719</td>\n",
       "      <td>1</td>\n",
       "    </tr>\n",
       "    <tr>\n",
       "      <th>3</th>\n",
       "      <td>4</td>\n",
       "      <td>18</td>\n",
       "      <td>4</td>\n",
       "      <td>4</td>\n",
       "      <td>11</td>\n",
       "      <td>4</td>\n",
       "      <td>5.0</td>\n",
       "      <td>58</td>\n",
       "      <td>+17.181</td>\n",
       "      <td>5707797</td>\n",
       "      <td>58</td>\n",
       "      <td>7</td>\n",
       "      <td>1:28.603</td>\n",
       "      <td>215.464</td>\n",
       "      <td>1</td>\n",
       "    </tr>\n",
       "    <tr>\n",
       "      <th>4</th>\n",
       "      <td>5</td>\n",
       "      <td>18</td>\n",
       "      <td>5</td>\n",
       "      <td>1</td>\n",
       "      <td>3</td>\n",
       "      <td>5</td>\n",
       "      <td>4.0</td>\n",
       "      <td>58</td>\n",
       "      <td>+18.014</td>\n",
       "      <td>5708630</td>\n",
       "      <td>43</td>\n",
       "      <td>1</td>\n",
       "      <td>1:27.418</td>\n",
       "      <td>218.385</td>\n",
       "      <td>1</td>\n",
       "    </tr>\n",
       "  </tbody>\n",
       "</table>\n",
       "</div>"
      ],
      "text/plain": [
       "   resultId  raceId  driverId  constructorId  grid  positionOrder  points  \\\n",
       "0         1      18         1              1     1              1    10.0   \n",
       "1         2      18         2              2     5              2     8.0   \n",
       "2         3      18         3              3     7              3     6.0   \n",
       "3         4      18         4              4    11              4     5.0   \n",
       "4         5      18         5              1     3              5     4.0   \n",
       "\n",
       "   laps         time milliseconds fastestLap rank fastestLapTime  \\\n",
       "0    58  1:34:50.616      5690616         39    2       1:27.452   \n",
       "1    58       +5.478      5696094         41    3       1:27.739   \n",
       "2    58       +8.163      5698779         41    5       1:28.090   \n",
       "3    58      +17.181      5707797         58    7       1:28.603   \n",
       "4    58      +18.014      5708630         43    1       1:27.418   \n",
       "\n",
       "  fastestLapSpeed  statusId  \n",
       "0         218.300         1  \n",
       "1         217.586         1  \n",
       "2         216.719         1  \n",
       "3         215.464         1  \n",
       "4         218.385         1  "
      ]
     },
     "execution_count": 6,
     "metadata": {},
     "output_type": "execute_result"
    }
   ],
   "source": [
    "dfresults = pd.read_csv(\"results.csv\")\n",
    "dfresults.drop(\"positionText\", axis=1, inplace=True)\n",
    "dfresults.drop(\"number\", axis=1, inplace=True)\n",
    "dfresults.drop(\"position\", axis=1, inplace=True)\n",
    "dfresults.head()\n"
   ]
  },
  {
   "cell_type": "code",
   "execution_count": 7,
   "metadata": {},
   "outputs": [
    {
     "name": "stderr",
     "output_type": "stream",
     "text": [
      "/var/folders/gb/q_14btsd7vq8jrly_35pxk_m0000gn/T/ipykernel_34469/490600306.py:30: FutureWarning: Series.__getitem__ treating keys as positions is deprecated. In a future version, integer keys will always be treated as labels (consistent with DataFrame behavior). To access a value by position, use `ser.iloc[pos]`\n",
      "  dfquali['mean_time'] = dfquali.apply(lambda x: meantime(x[6], x[7], x[8]), axis=1)\n"
     ]
    }
   ],
   "source": [
    "dfquali = pd.read_csv(\"qualifying.csv\")\n",
    "dfquali.sort_values('q2', ascending=False)\n",
    "dfquali.head()\n",
    "\n",
    "#convert all time to seconds\n",
    "def qseconds(time):\n",
    "    try:\n",
    "        total = time.split(':')\n",
    "        mins = int(total[0]) * 60\n",
    "        seconds = total[1].split('.')\n",
    "        seconds_float = float(seconds[0])\n",
    "        milliseconds = float('0.' + seconds[1]) if len(seconds) > 1 else 0.0\n",
    "        final = mins + seconds_float + milliseconds    \n",
    "        return final\n",
    "    except:\n",
    "        return np.nan\n",
    "\n",
    "for q in ['q1', 'q2', 'q3']:\n",
    "    dfquali[q] = dfquali[q].apply(qseconds)\n",
    "\n",
    "#creating mean times of all quali\n",
    "def meantime(q1, q2, q3):\n",
    "    if pd.isna(q2):\n",
    "        return (q1)\n",
    "    elif pd.isna(q3):\n",
    "        return (q1 + q2)/2\n",
    "    else:\n",
    "        return (q1 + q2 + q3)/3\n",
    "    \n",
    "dfquali['mean_time'] = dfquali.apply(lambda x: meantime(x[6], x[7], x[8]), axis=1)\n",
    "\n",
    "# Create a new column for the difference of pole position?\n",
    "\n",
    "#need to fill times for NA Q1 apperances\n",
    "dflaptimes = pd.read_csv(\"lap_times.csv\")\n",
    "\n",
    "#filling by final laptime of the race\n",
    "final_lap_times = dflaptimes.groupby(['raceId', 'driverId'])['time'].last().reset_index()\n",
    "final_lap_times.rename(columns={'time': 'final_lap_time'}, inplace=True)\n",
    "\n",
    "\n",
    "dfquali = pd.merge(dfquali, final_lap_times, on=['raceId', 'driverId'], how='left')\n",
    "\n",
    "dfquali['q1'] = dfquali['q1'].fillna(dfquali['final_lap_time'])\n",
    "dfquali.drop(columns='final_lap_time', inplace=True)\n",
    "\n",
    "#drop regular times as drivers will get knocked out; this will still be taken in to account by position\n",
    "dfquali.drop(dfquali.columns[6:9], axis=1, inplace=True)\n",
    "\n"
   ]
  },
  {
   "cell_type": "code",
   "execution_count": 8,
   "metadata": {},
   "outputs": [
    {
     "data": {
      "application/vnd.microsoft.datawrangler.viewer.v0+json": {
       "columns": [
        {
         "name": "index",
         "rawType": "int64",
         "type": "integer"
        },
        {
         "name": "constructorId",
         "rawType": "int64",
         "type": "integer"
        },
        {
         "name": "constructorRef",
         "rawType": "object",
         "type": "string"
        },
        {
         "name": "name",
         "rawType": "object",
         "type": "string"
        },
        {
         "name": "nationality",
         "rawType": "object",
         "type": "string"
        },
        {
         "name": "url",
         "rawType": "object",
         "type": "string"
        }
       ],
       "conversionMethod": "pd.DataFrame",
       "ref": "d7bbfeca-aace-49eb-bf46-0c1ffa53bc34",
       "rows": [
        [
         "0",
         "1",
         "mclaren",
         "McLaren",
         "British",
         "http://en.wikipedia.org/wiki/McLaren"
        ],
        [
         "1",
         "2",
         "bmw_sauber",
         "BMW Sauber",
         "German",
         "http://en.wikipedia.org/wiki/BMW_Sauber"
        ],
        [
         "2",
         "3",
         "williams",
         "Williams",
         "British",
         "http://en.wikipedia.org/wiki/Williams_Grand_Prix_Engineering"
        ],
        [
         "3",
         "4",
         "renault",
         "Renault",
         "French",
         "http://en.wikipedia.org/wiki/Renault_in_Formula_One"
        ],
        [
         "4",
         "5",
         "toro_rosso",
         "Toro Rosso",
         "Italian",
         "http://en.wikipedia.org/wiki/Scuderia_Toro_Rosso"
        ]
       ],
       "shape": {
        "columns": 5,
        "rows": 5
       }
      },
      "text/html": [
       "<div>\n",
       "<style scoped>\n",
       "    .dataframe tbody tr th:only-of-type {\n",
       "        vertical-align: middle;\n",
       "    }\n",
       "\n",
       "    .dataframe tbody tr th {\n",
       "        vertical-align: top;\n",
       "    }\n",
       "\n",
       "    .dataframe thead th {\n",
       "        text-align: right;\n",
       "    }\n",
       "</style>\n",
       "<table border=\"1\" class=\"dataframe\">\n",
       "  <thead>\n",
       "    <tr style=\"text-align: right;\">\n",
       "      <th></th>\n",
       "      <th>constructorId</th>\n",
       "      <th>constructorRef</th>\n",
       "      <th>name</th>\n",
       "      <th>nationality</th>\n",
       "      <th>url</th>\n",
       "    </tr>\n",
       "  </thead>\n",
       "  <tbody>\n",
       "    <tr>\n",
       "      <th>0</th>\n",
       "      <td>1</td>\n",
       "      <td>mclaren</td>\n",
       "      <td>McLaren</td>\n",
       "      <td>British</td>\n",
       "      <td>http://en.wikipedia.org/wiki/McLaren</td>\n",
       "    </tr>\n",
       "    <tr>\n",
       "      <th>1</th>\n",
       "      <td>2</td>\n",
       "      <td>bmw_sauber</td>\n",
       "      <td>BMW Sauber</td>\n",
       "      <td>German</td>\n",
       "      <td>http://en.wikipedia.org/wiki/BMW_Sauber</td>\n",
       "    </tr>\n",
       "    <tr>\n",
       "      <th>2</th>\n",
       "      <td>3</td>\n",
       "      <td>williams</td>\n",
       "      <td>Williams</td>\n",
       "      <td>British</td>\n",
       "      <td>http://en.wikipedia.org/wiki/Williams_Grand_Pr...</td>\n",
       "    </tr>\n",
       "    <tr>\n",
       "      <th>3</th>\n",
       "      <td>4</td>\n",
       "      <td>renault</td>\n",
       "      <td>Renault</td>\n",
       "      <td>French</td>\n",
       "      <td>http://en.wikipedia.org/wiki/Renault_in_Formul...</td>\n",
       "    </tr>\n",
       "    <tr>\n",
       "      <th>4</th>\n",
       "      <td>5</td>\n",
       "      <td>toro_rosso</td>\n",
       "      <td>Toro Rosso</td>\n",
       "      <td>Italian</td>\n",
       "      <td>http://en.wikipedia.org/wiki/Scuderia_Toro_Rosso</td>\n",
       "    </tr>\n",
       "  </tbody>\n",
       "</table>\n",
       "</div>"
      ],
      "text/plain": [
       "   constructorId constructorRef        name nationality  \\\n",
       "0              1        mclaren     McLaren     British   \n",
       "1              2     bmw_sauber  BMW Sauber      German   \n",
       "2              3       williams    Williams     British   \n",
       "3              4        renault     Renault      French   \n",
       "4              5     toro_rosso  Toro Rosso     Italian   \n",
       "\n",
       "                                                 url  \n",
       "0               http://en.wikipedia.org/wiki/McLaren  \n",
       "1            http://en.wikipedia.org/wiki/BMW_Sauber  \n",
       "2  http://en.wikipedia.org/wiki/Williams_Grand_Pr...  \n",
       "3  http://en.wikipedia.org/wiki/Renault_in_Formul...  \n",
       "4   http://en.wikipedia.org/wiki/Scuderia_Toro_Rosso  "
      ]
     },
     "execution_count": 8,
     "metadata": {},
     "output_type": "execute_result"
    }
   ],
   "source": [
    "dfteams = pd.read_csv('constructors.csv')\n",
    "\n",
    "dfteams.head()"
   ]
  },
  {
   "cell_type": "code",
   "execution_count": 9,
   "metadata": {},
   "outputs": [
    {
     "data": {
      "application/vnd.microsoft.datawrangler.viewer.v0+json": {
       "columns": [
        {
         "name": "index",
         "rawType": "int64",
         "type": "integer"
        },
        {
         "name": "driverId",
         "rawType": "int64",
         "type": "integer"
        },
        {
         "name": "driverRef",
         "rawType": "object",
         "type": "string"
        },
        {
         "name": "number",
         "rawType": "object",
         "type": "string"
        },
        {
         "name": "code",
         "rawType": "object",
         "type": "string"
        },
        {
         "name": "forename",
         "rawType": "object",
         "type": "string"
        },
        {
         "name": "surname",
         "rawType": "object",
         "type": "string"
        },
        {
         "name": "dob",
         "rawType": "object",
         "type": "string"
        },
        {
         "name": "nationality",
         "rawType": "object",
         "type": "string"
        },
        {
         "name": "url",
         "rawType": "object",
         "type": "string"
        }
       ],
       "conversionMethod": "pd.DataFrame",
       "ref": "d95b8fcb-ea81-46b1-ad5a-20d4023e62e3",
       "rows": [
        [
         "0",
         "1",
         "hamilton",
         "44",
         "HAM",
         "Lewis",
         "Hamilton",
         "1985-01-07",
         "British",
         "http://en.wikipedia.org/wiki/Lewis_Hamilton"
        ],
        [
         "1",
         "2",
         "heidfeld",
         "\\N",
         "HEI",
         "Nick",
         "Heidfeld",
         "1977-05-10",
         "German",
         "http://en.wikipedia.org/wiki/Nick_Heidfeld"
        ],
        [
         "2",
         "3",
         "rosberg",
         "6",
         "ROS",
         "Nico",
         "Rosberg",
         "1985-06-27",
         "German",
         "http://en.wikipedia.org/wiki/Nico_Rosberg"
        ],
        [
         "3",
         "4",
         "alonso",
         "14",
         "ALO",
         "Fernando",
         "Alonso",
         "1981-07-29",
         "Spanish",
         "http://en.wikipedia.org/wiki/Fernando_Alonso"
        ],
        [
         "4",
         "5",
         "kovalainen",
         "\\N",
         "KOV",
         "Heikki",
         "Kovalainen",
         "1981-10-19",
         "Finnish",
         "http://en.wikipedia.org/wiki/Heikki_Kovalainen"
        ]
       ],
       "shape": {
        "columns": 9,
        "rows": 5
       }
      },
      "text/html": [
       "<div>\n",
       "<style scoped>\n",
       "    .dataframe tbody tr th:only-of-type {\n",
       "        vertical-align: middle;\n",
       "    }\n",
       "\n",
       "    .dataframe tbody tr th {\n",
       "        vertical-align: top;\n",
       "    }\n",
       "\n",
       "    .dataframe thead th {\n",
       "        text-align: right;\n",
       "    }\n",
       "</style>\n",
       "<table border=\"1\" class=\"dataframe\">\n",
       "  <thead>\n",
       "    <tr style=\"text-align: right;\">\n",
       "      <th></th>\n",
       "      <th>driverId</th>\n",
       "      <th>driverRef</th>\n",
       "      <th>number</th>\n",
       "      <th>code</th>\n",
       "      <th>forename</th>\n",
       "      <th>surname</th>\n",
       "      <th>dob</th>\n",
       "      <th>nationality</th>\n",
       "      <th>url</th>\n",
       "    </tr>\n",
       "  </thead>\n",
       "  <tbody>\n",
       "    <tr>\n",
       "      <th>0</th>\n",
       "      <td>1</td>\n",
       "      <td>hamilton</td>\n",
       "      <td>44</td>\n",
       "      <td>HAM</td>\n",
       "      <td>Lewis</td>\n",
       "      <td>Hamilton</td>\n",
       "      <td>1985-01-07</td>\n",
       "      <td>British</td>\n",
       "      <td>http://en.wikipedia.org/wiki/Lewis_Hamilton</td>\n",
       "    </tr>\n",
       "    <tr>\n",
       "      <th>1</th>\n",
       "      <td>2</td>\n",
       "      <td>heidfeld</td>\n",
       "      <td>\\N</td>\n",
       "      <td>HEI</td>\n",
       "      <td>Nick</td>\n",
       "      <td>Heidfeld</td>\n",
       "      <td>1977-05-10</td>\n",
       "      <td>German</td>\n",
       "      <td>http://en.wikipedia.org/wiki/Nick_Heidfeld</td>\n",
       "    </tr>\n",
       "    <tr>\n",
       "      <th>2</th>\n",
       "      <td>3</td>\n",
       "      <td>rosberg</td>\n",
       "      <td>6</td>\n",
       "      <td>ROS</td>\n",
       "      <td>Nico</td>\n",
       "      <td>Rosberg</td>\n",
       "      <td>1985-06-27</td>\n",
       "      <td>German</td>\n",
       "      <td>http://en.wikipedia.org/wiki/Nico_Rosberg</td>\n",
       "    </tr>\n",
       "    <tr>\n",
       "      <th>3</th>\n",
       "      <td>4</td>\n",
       "      <td>alonso</td>\n",
       "      <td>14</td>\n",
       "      <td>ALO</td>\n",
       "      <td>Fernando</td>\n",
       "      <td>Alonso</td>\n",
       "      <td>1981-07-29</td>\n",
       "      <td>Spanish</td>\n",
       "      <td>http://en.wikipedia.org/wiki/Fernando_Alonso</td>\n",
       "    </tr>\n",
       "    <tr>\n",
       "      <th>4</th>\n",
       "      <td>5</td>\n",
       "      <td>kovalainen</td>\n",
       "      <td>\\N</td>\n",
       "      <td>KOV</td>\n",
       "      <td>Heikki</td>\n",
       "      <td>Kovalainen</td>\n",
       "      <td>1981-10-19</td>\n",
       "      <td>Finnish</td>\n",
       "      <td>http://en.wikipedia.org/wiki/Heikki_Kovalainen</td>\n",
       "    </tr>\n",
       "  </tbody>\n",
       "</table>\n",
       "</div>"
      ],
      "text/plain": [
       "   driverId   driverRef number code  forename     surname         dob  \\\n",
       "0         1    hamilton     44  HAM     Lewis    Hamilton  1985-01-07   \n",
       "1         2    heidfeld     \\N  HEI      Nick    Heidfeld  1977-05-10   \n",
       "2         3     rosberg      6  ROS      Nico     Rosberg  1985-06-27   \n",
       "3         4      alonso     14  ALO  Fernando      Alonso  1981-07-29   \n",
       "4         5  kovalainen     \\N  KOV    Heikki  Kovalainen  1981-10-19   \n",
       "\n",
       "  nationality                                             url  \n",
       "0     British     http://en.wikipedia.org/wiki/Lewis_Hamilton  \n",
       "1      German      http://en.wikipedia.org/wiki/Nick_Heidfeld  \n",
       "2      German       http://en.wikipedia.org/wiki/Nico_Rosberg  \n",
       "3     Spanish    http://en.wikipedia.org/wiki/Fernando_Alonso  \n",
       "4     Finnish  http://en.wikipedia.org/wiki/Heikki_Kovalainen  "
      ]
     },
     "execution_count": 9,
     "metadata": {},
     "output_type": "execute_result"
    }
   ],
   "source": [
    "dfdrivers = pd.read_csv(\"drivers.csv\")\n",
    "dfdrivers.head()"
   ]
  },
  {
   "cell_type": "code",
   "execution_count": null,
   "metadata": {},
   "outputs": [],
   "source": [
    "\"\"\"\"\n",
    "Merging DFs into One\"\n",
    "\"\"\"\n",
    "#quali and results\n",
    "result_quali = pd.merge(dfresults, dfquali, on=['raceId', 'driverId','constructorId'], how='outer')\n",
    "#adding race info\n",
    "race_result_quali = pd.merge(dfraces, result_quali, on=['raceId'], how='outer')\n",
    "#adding circut data\n",
    "cir_race_result_quali = pd.merge(dfcircuts, race_result_quali, on =['circuitId'], how='outer')\n",
    "#adding driver data\n",
    "driver_cir_race_result_quali = pd.merge(dfdrivers, cir_race_result_quali, on =['driverId'], how='outer')\n",
    "\n",
    "\n"
   ]
  },
  {
   "cell_type": "code",
   "execution_count": 36,
   "metadata": {},
   "outputs": [
    {
     "name": "stderr",
     "output_type": "stream",
     "text": [
      "/var/folders/gb/q_14btsd7vq8jrly_35pxk_m0000gn/T/ipykernel_34469/2374305477.py:11: SettingWithCopyWarning: \n",
      "A value is trying to be set on a copy of a slice from a DataFrame\n",
      "\n",
      "See the caveats in the documentation: https://pandas.pydata.org/pandas-docs/stable/user_guide/indexing.html#returning-a-view-versus-a-copy\n",
      "  df_final.dropna(subset=['resultId'],axis =0 ,inplace=True)\n",
      "/var/folders/gb/q_14btsd7vq8jrly_35pxk_m0000gn/T/ipykernel_34469/2374305477.py:12: SettingWithCopyWarning: \n",
      "A value is trying to be set on a copy of a slice from a DataFrame\n",
      "\n",
      "See the caveats in the documentation: https://pandas.pydata.org/pandas-docs/stable/user_guide/indexing.html#returning-a-view-versus-a-copy\n",
      "  df_final.dropna(subset=['qualifyId'],axis =0 ,inplace=True)\n"
     ]
    },
    {
     "data": {
      "text/plain": [
       "driverId           0\n",
       "driverRef          0\n",
       "number_x           0\n",
       "code               0\n",
       "forename           0\n",
       "surname            0\n",
       "dob                0\n",
       "nationality        0\n",
       "url_x              0\n",
       "circuitId          0\n",
       "circuitRef         0\n",
       "name_x             0\n",
       "location           0\n",
       "country            0\n",
       "lat                0\n",
       "lng                0\n",
       "alt                0\n",
       "url_y              0\n",
       "raceId             0\n",
       "year               0\n",
       "round              0\n",
       "name_y             0\n",
       "resultId           0\n",
       "constructorId      0\n",
       "grid               0\n",
       "positionOrder      0\n",
       "points             0\n",
       "laps               0\n",
       "time               0\n",
       "milliseconds       0\n",
       "fastestLap         0\n",
       "rank               0\n",
       "fastestLapTime     0\n",
       "fastestLapSpeed    0\n",
       "statusId           0\n",
       "qualifyId          0\n",
       "number_y           0\n",
       "position           0\n",
       "mean_time          0\n",
       "dtype: int64"
      ]
     },
     "execution_count": 36,
     "metadata": {},
     "output_type": "execute_result"
    }
   ],
   "source": [
    "#Cleaning\n",
    "\n",
    "#removing all years not in the turbo hybrid era\n",
    "df_final = driver_cir_race_result_quali[(driver_cir_race_result_quali['year'] >= 2014)]\n",
    "\n",
    "#na quali is for those who crashed out or were not able to complete the session. since 0 would be rewarding the driver, we will give them the max time of any circut.\n",
    "\n",
    "df_final.loc[df_final['mean_time'].isna(), 'mean_time'] = df_final['mean_time'].max()\n",
    "\n",
    "#missing 10 races where marussia switched team names over to Manor Marussia\n",
    "df_final.dropna(subset=['resultId'],axis =0 ,inplace=True)\n",
    "df_final.dropna(subset=['qualifyId'],axis =0 ,inplace=True)\n",
    "\n",
    "df_final.isna().sum()"
   ]
  },
  {
   "cell_type": "code",
   "execution_count": 43,
   "metadata": {},
   "outputs": [
    {
     "data": {
      "text/plain": [
       "array(['McLaren', 'Williams', 'Alpine F1 Team', 'RB F1 Team', 'Ferrari',\n",
       "       'Red Bull', 'Aston Martin', 'Sauber', 'Mercedes', 'Manor Marussia',\n",
       "       'Caterham', 'Haas F1 Team'], dtype=object)"
      ]
     },
     "execution_count": 43,
     "metadata": {},
     "output_type": "execute_result"
    }
   ],
   "source": [
    "#dropping irrelvant columns or columns that can cannot be predicted on/leak results (ie fastest lap time/rank)\n",
    "data = df_final.drop(['country', 'location', 'lat', 'lng', 'alt', 'name_x', 'resultId', 'time', 'milliseconds', 'qualifyId', 'fastestLapTime', 'fastestLapSpeed', 'points', 'fastestLap', 'number_x', 'number_y', 'forename', 'surname', 'url_x', 'url_y', 'name_y', 'position', 'rank', 'circuitId', 'raceId',  ], axis =1)\n",
    "\n",
    "#rank is fastest lap rank\n",
    "#pos order is the final pos\n",
    "#grid is starting grid\n",
    "\n",
    "#remaining items: Clean drivers, add constructor labels, add status labels\n",
    "\n",
    "#cleaning driver cols (driverId, driverRef, code) and adding Age as a feature via DOB\n",
    "\n",
    "data = data.drop(['driverId', 'driverRef'], axis=1) #code, nationality is left to encode with OHE\n",
    "\n",
    "data['dob'] = pd.to_datetime(data.dob)\n",
    "data['driver_age'] = data.year - data.dob.dt.year\n",
    "data.drop(['dob'], axis=1, inplace= True)\n",
    "\n",
    "#adding constructor names to encode and dropping those that dont fit in the turbo hybrid era\n",
    "temp = data.copy()\n",
    "data = pd.merge(dfteams, temp, on=['constructorId'], how='outer').drop(['nationality_x','url', 'constructorRef'], axis =1)\n",
    "data = data.dropna(subset=['code'])\n",
    "data.drop(['constructorId'], axis=1, inplace=True)\n",
    "\n",
    "#combining constructor names as teams have remained the same but have changed title sponsors\n",
    "def nameupdate(team):\n",
    "    if team == \"Renault\" or team == 'Lotus F1':\n",
    "        return 'Alpine F1 Team'\n",
    "    elif team == \"Toro Rosso\" or team == 'AlphaTauri':\n",
    "        return 'RB F1 Team'\n",
    "    elif team == \"Force India\"or team == 'Racing Point':\n",
    "        return 'Aston Martin'\n",
    "    elif team == \"Alfa Romeo\":\n",
    "        return 'Sauber'\n",
    "    elif team == \"Marussia\":\n",
    "        return 'Manor Marussia'\n",
    "    else:\n",
    "        return team\n",
    "    \n",
    "data['name'] = data['name'].apply(nameupdate)\n",
    "\n",
    "#creating features for status to show if driver or car dnf\n",
    "no_fault = [11,88,45,55,53,111,112,116,50,114,124,12,127,120,115,119,117,113,58,118,13,123,134,14,128,122,125,133,15,16,17,18,19,7,1]\n",
    "driver_dnf = [3,41,4,130,137,97,81,104]\n",
    "car_dnf = [91,109,84,135,23,83,8,141,87,102,138,24,2,99,28,100,30,79,10,40,5,56,129,132,96,43,107,66,33,74,95,106,32,48,71,69,6,86,64,42,9,80,139,98,73,82,72,121,26,62,90,44,70,108,51,94,60,25,68,63,75,131,29,21,65,35,31,78,93,89,136,105,20,85,38,126,22,39,37,49,7,101,27,59,140,92,76,47,110,34,103,36,67,61,46,54]\n",
    "\n",
    "data['driver_dnf'] = data['statusId'].isin(driver_dnf).astype(int)\n",
    "data['car_dnf'] = data['statusId'].isin(car_dnf).astype(int)\n",
    "data.drop(['statusId'], axis=1, inplace=True)\n",
    "#data.dtypes\n",
    "\n",
    "data.name.unique()"
   ]
  },
  {
   "cell_type": "code",
   "execution_count": 47,
   "metadata": {},
   "outputs": [],
   "source": [
    "#final renaming of cols and csv export\n",
    "\n",
    "data = data.rename(columns={\n",
    "    'name' : 'team_name',\n",
    "    'nationality_y' : 'driver_nat',\n",
    "    'grid' : 'starting_pos',\n",
    "    'positionOrder' : 'finishing_pos',\n",
    "    'mean_time' : 'quali_mean'\n",
    "})\n",
    "\n",
    "\n",
    "data.to_csv('f1_cleaned.csv', index=False)"
   ]
  }
 ],
 "metadata": {
  "kernelspec": {
   "display_name": "ML",
   "language": "python",
   "name": "python3"
  },
  "language_info": {
   "codemirror_mode": {
    "name": "ipython",
    "version": 3
   },
   "file_extension": ".py",
   "mimetype": "text/x-python",
   "name": "python",
   "nbconvert_exporter": "python",
   "pygments_lexer": "ipython3",
   "version": "3.12.8"
  }
 },
 "nbformat": 4,
 "nbformat_minor": 2
}
