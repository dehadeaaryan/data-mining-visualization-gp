{
 "cells": [
  {
   "cell_type": "code",
   "execution_count": 19,
   "id": "d9cb8c1e",
   "metadata": {},
   "outputs": [],
   "source": [
    "import pandas as pd\n",
    "import numpy as np\n",
    "from sklearn.pipeline import Pipeline\n",
    "from sklearn.compose import ColumnTransformer\n",
    "from sklearn.preprocessing import OneHotEncoder, StandardScaler\n",
    "from sklearn.linear_model import LinearRegression\n",
    "from sklearn.ensemble import RandomForestRegressor\n",
    "from xgboost import XGBRegressor\n",
    "from sklearn.metrics import r2_score, mean_squared_error"
   ]
  },
  {
   "cell_type": "code",
   "execution_count": 20,
   "id": "63daa92d",
   "metadata": {},
   "outputs": [
    {
     "data": {
      "text/plain": [
       "team_name         object\n",
       "code              object\n",
       "driver_nat        object\n",
       "circuitRef        object\n",
       "year             float64\n",
       "round            float64\n",
       "starting_pos     float64\n",
       "finishing_pos    float64\n",
       "laps             float64\n",
       "quali_mean       float64\n",
       "driver_age       float64\n",
       "driver_dnf         int64\n",
       "car_dnf            int64\n",
       "dtype: object"
      ]
     },
     "execution_count": 20,
     "metadata": {},
     "output_type": "execute_result"
    }
   ],
   "source": [
    "data = pd.read_csv('f1_cleaned.csv')\n",
    "data = data.rename(columns={'driver_name' : 'team_name'})\n",
    "data.dtypes"
   ]
  },
  {
   "cell_type": "code",
   "execution_count": 47,
   "id": "7c8bb73e",
   "metadata": {},
   "outputs": [],
   "source": [
    "#train test split\n",
    "#we are not using a random split here, training with pre 2024 data and trying to predict the races that occured in 2024\n",
    "\n",
    "train = data[data.year<2024]\n",
    "test = data[data.year==2024]\n",
    "\n",
    "#testing set\n",
    "y_test = test.pop('finishing_pos')\n",
    "x_test = test\n",
    "\n",
    "#training set\n",
    "y_train = train.pop('finishing_pos')\n",
    "x_train = train\n"
   ]
  },
  {
   "cell_type": "code",
   "execution_count": 22,
   "id": "67391163",
   "metadata": {},
   "outputs": [],
   "source": [
    "#encoding vars and scaling data\n",
    "\n",
    "cat_feat = ['team_name', \n",
    "            'code', \n",
    "            'driver_nat', \n",
    "            'circuitRef']\n",
    "x_num_feat = ['year', \n",
    "              'round', \n",
    "              'starting_pos', \n",
    "              'laps', \n",
    "              'quali_mean', \n",
    "              'driver_age', \n",
    "              'driver_dnf', \n",
    "              'car_dnf']\n",
    "\n",
    "#scale y later if needed for a distance model\n",
    "\n",
    "ct = ColumnTransformer(transformers=[\n",
    "    ('encoder', OneHotEncoder(handle_unknown='ignore', drop='first'), cat_feat), #avoid dummy var trap with OHE\n",
    "    ('scx', StandardScaler(), x_num_feat)\n",
    "])\n",
    "\n",
    "\n"
   ]
  },
  {
   "cell_type": "code",
   "execution_count": 23,
   "id": "2013f1f4",
   "metadata": {},
   "outputs": [],
   "source": [
    "#Block for parameter tuning (grid search)"
   ]
  },
  {
   "cell_type": "code",
   "execution_count": 32,
   "id": "4e0389ba",
   "metadata": {},
   "outputs": [
    {
     "name": "stdout",
     "output_type": "stream",
     "text": [
      "R2; 0.6229827414899718\n",
      "Root Mean Squared Error: 3.5342341857980966\n"
     ]
    },
    {
     "name": "stderr",
     "output_type": "stream",
     "text": [
      "/opt/anaconda3/envs/ML/lib/python3.12/site-packages/sklearn/preprocessing/_encoders.py:246: UserWarning: Found unknown categories in columns [1, 2] during transform. These unknown categories will be encoded as all zeros\n",
      "  warnings.warn(\n"
     ]
    }
   ],
   "source": [
    "#Basic LR model (no tuning)\n",
    "\n",
    "model = Pipeline(steps=[\n",
    "    ('preprocessor', ct),\n",
    "    ('regressor', LinearRegression())\n",
    "])\n",
    "\n",
    "model.fit(x_train, y_train)\n",
    "y_pred = model.predict(x_test)\n",
    "\n",
    "r2 = r2_score(y_test, y_pred)\n",
    "print('R2;', r2)\n",
    "\n",
    "rmse = np.sqrt(mean_squared_error(y_test, y_pred))\n",
    "print('Root Mean Squared Error:', rmse)"
   ]
  },
  {
   "cell_type": "code",
   "execution_count": 30,
   "id": "47d63893",
   "metadata": {},
   "outputs": [
    {
     "name": "stdout",
     "output_type": "stream",
     "text": [
      "R2; 0.7308738885643924\n",
      "Root Mean Squared Error: 2.9860194071357324\n"
     ]
    },
    {
     "name": "stderr",
     "output_type": "stream",
     "text": [
      "/opt/anaconda3/envs/ML/lib/python3.12/site-packages/sklearn/preprocessing/_encoders.py:246: UserWarning: Found unknown categories in columns [1, 2] during transform. These unknown categories will be encoded as all zeros\n",
      "  warnings.warn(\n"
     ]
    }
   ],
   "source": [
    "#Basic RF model (no tuning)\n",
    "\n",
    "model = Pipeline(steps=[\n",
    "    ('preprocessor', ct),\n",
    "    ('regressor', RandomForestRegressor(n_estimators=100))\n",
    "])\n",
    "\n",
    "model.fit(x_train, y_train)\n",
    "y_pred = model.predict(x_test)\n",
    "\n",
    "r2 = r2_score(y_test, y_pred)\n",
    "print('R2;', r2)\n",
    "\n",
    "rmse = np.sqrt(mean_squared_error(y_test, y_pred))\n",
    "print('Root Mean Squared Error:', rmse)\n"
   ]
  },
  {
   "cell_type": "code",
   "execution_count": 48,
   "id": "a51b2ef3",
   "metadata": {},
   "outputs": [
    {
     "name": "stdout",
     "output_type": "stream",
     "text": [
      "R2; 0.7401179477769638\n",
      "Root Mean Squared Error: 2.9342887708687915\n"
     ]
    },
    {
     "name": "stderr",
     "output_type": "stream",
     "text": [
      "/opt/anaconda3/envs/ML/lib/python3.12/site-packages/sklearn/preprocessing/_encoders.py:246: UserWarning: Found unknown categories in columns [1, 2] during transform. These unknown categories will be encoded as all zeros\n",
      "  warnings.warn(\n"
     ]
    }
   ],
   "source": [
    "#Basic XGB model (L2 regularization, manual preprocess as pipeline was getting error)\n",
    "import multiprocessing\n",
    "\n",
    "#fit transform train\n",
    "x_train = ct.fit_transform(x_train)\n",
    "regressor = XGBRegressor(objective='reg:squarederror', n_estimators=25, n_jobs=multiprocessing.cpu_count())\n",
    "regressor.fit(x_train, y_train)\n",
    "\n",
    "#transform test\n",
    "x_test = ct.transform(x_test)\n",
    "y_pred = regressor.predict(x_test)\n",
    "\n",
    "r2 = r2_score(y_test, y_pred)\n",
    "print('R2;', r2)\n",
    "\n",
    "rmse = np.sqrt(mean_squared_error(y_test, y_pred))\n",
    "print('Root Mean Squared Error:', rmse)\n"
   ]
  },
  {
   "cell_type": "code",
   "execution_count": 38,
   "id": "759706a4",
   "metadata": {},
   "outputs": [],
   "source": [
    "#df created to compare results \n",
    "\n",
    "comparison_df = pd.DataFrame({\n",
    "    'Driver': test['code'],              \n",
    "    'Circut': test['circuitRef'],          \n",
    "    'Actual Pos': y_test,                         \n",
    "    'Predicted Pos': y_pred                       \n",
    "})"
   ]
  }
 ],
 "metadata": {
  "kernelspec": {
   "display_name": "ML",
   "language": "python",
   "name": "python3"
  },
  "language_info": {
   "codemirror_mode": {
    "name": "ipython",
    "version": 3
   },
   "file_extension": ".py",
   "mimetype": "text/x-python",
   "name": "python",
   "nbconvert_exporter": "python",
   "pygments_lexer": "ipython3",
   "version": "3.12.8"
  }
 },
 "nbformat": 4,
 "nbformat_minor": 5
}
